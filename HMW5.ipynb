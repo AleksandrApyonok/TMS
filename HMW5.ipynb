{
 "cells": [
  {
   "cell_type": "code",
   "execution_count": 1,
   "id": "2338523c",
   "metadata": {},
   "outputs": [
    {
     "name": "stdout",
     "output_type": "stream",
     "text": [
      "['Good', 'Job', 'my', 'brother']\n"
     ]
    }
   ],
   "source": [
    "#111\n",
    "zamena = \"Good Job my brother\"\n",
    "def change(zamena) -> list:\n",
    "    lst  = zamena.split()\n",
    "    return(lst)\n",
    "print(change(zamena))\n"
   ]
  },
  {
   "cell_type": "code",
   "execution_count": 2,
   "id": "4aa95f60",
   "metadata": {},
   "outputs": [
    {
     "name": "stdout",
     "output_type": "stream",
     "text": [
      "Укажите время, сколько ездил велосипедсит:4500\n",
      "2250\n"
     ]
    }
   ],
   "source": [
    "##2222\n",
    "import math\n",
    "a= float(input(\"Укажите время, сколько ездил велосипедсит:\"))\n",
    "ezda = ()\n",
    "def voda(ezda: int) -> int:\n",
    "    ezda = math.floor(a*0.5)\n",
    "    return(ezda)\n",
    "\n",
    "print (voda(ezda))"
   ]
  },
  {
   "cell_type": "code",
   "execution_count": 3,
   "id": "f082b5f8",
   "metadata": {},
   "outputs": [
    {
     "name": "stdout",
     "output_type": "stream",
     "text": [
      "[8, 7, 6, 5, 4, 3, 2, 1]\n"
     ]
    }
   ],
   "source": [
    "###3\n",
    "def back(n):\n",
    "    if n <= 0:\n",
    "        print(\"no\")\n",
    "    else:\n",
    "        lil = []\n",
    "        for i in range(1,n+1):\n",
    "            lil.append(i)\n",
    "        lil.reverse()\n",
    "\n",
    "    return(lil)\n",
    "n = 8\n",
    "print(back(n))\n"
   ]
  },
  {
   "cell_type": "code",
   "execution_count": 5,
   "id": "79bc2d38",
   "metadata": {},
   "outputs": [
    {
     "name": "stdout",
     "output_type": "stream",
     "text": [
      "Введите год: 1232\n"
     ]
    },
    {
     "data": {
      "text/plain": [
       "13"
      ]
     },
     "execution_count": 5,
     "metadata": {},
     "output_type": "execute_result"
    }
   ],
   "source": [
    "#44444\n",
    "import math \n",
    "def back(a):\n",
    "    vek = math.ceil(a/100)\n",
    "    \n",
    "    return(vek)\n",
    "a = int(input(\"Введите год: \"))\n",
    "back(a)"
   ]
  },
  {
   "cell_type": "markdown",
   "id": "5b9b75e9",
   "metadata": {},
   "source": [
    "##555\n",
    "def mass(ball:int)->list:\n",
    "    b = []\n",
    "    if ball >= 0:\n",
    "        ball = str(ball)\n",
    "        for i in ball:\n",
    "            b.append(i)\n",
    "        b.reverse()\n",
    "    else:\n",
    "        print(\"no way i am doing that\")\n",
    "    \n",
    "    return(b)\n",
    "ball = 64578\n",
    "mass(ball)"
   ]
  }
 ],
 "metadata": {
  "kernelspec": {
   "display_name": "Python 3 (ipykernel)",
   "language": "python",
   "name": "python3"
  },
  "language_info": {
   "codemirror_mode": {
    "name": "ipython",
    "version": 3
   },
   "file_extension": ".py",
   "mimetype": "text/x-python",
   "name": "python",
   "nbconvert_exporter": "python",
   "pygments_lexer": "ipython3",
   "version": "3.11.5"
  }
 },
 "nbformat": 4,
 "nbformat_minor": 5
}
