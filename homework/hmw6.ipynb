{
 "cells": [
  {
   "cell_type": "code",
   "execution_count": 41,
   "id": "db3cf84a",
   "metadata": {},
   "outputs": [
    {
     "name": "stdout",
     "output_type": "stream",
     "text": [
      "(8, 1)\n"
     ]
    }
   ],
   "source": [
    "#111111111\n",
    "def funct(spisok:list) -> int:\n",
    "    \"\"\"Строка числе с пробелами, найти максимально и минимальное \n",
    "    значение First: Список с числами и пробелами между\n",
    "    return: максимальное и минимальное число из этих чисел\n",
    "    \"\"\"\n",
    "    s = []\n",
    "    for i in (spisok):\n",
    "        if i != \" \":\n",
    "            i = int(i)\n",
    "            s.append(i)\n",
    "    maxy = max(s)\n",
    "    miny = min(s)\n",
    "    return maxy, miny\n",
    "spisok = \"1 233 4566 7 788\"\n",
    "print(funct(spisok))\n",
    "        \n",
    "        "
   ]
  },
  {
   "cell_type": "code",
   "execution_count": 34,
   "id": "a7819581",
   "metadata": {},
   "outputs": [
    {
     "name": "stdout",
     "output_type": "stream",
     "text": [
      "False\n"
     ]
    }
   ],
   "source": [
    "#2222222\n",
    "\n",
    "def Pin(code:int) -> bool:\n",
    "    \"\"\"Проверяет пинкод на колво цифры, нужно 4 или 6\n",
    "first: пинкод\n",
    "return: подходит код или нет\n",
    "\"\"\"\n",
    "    code = str(code)\n",
    "    if len(code) == 4 or len(code) == 6 :\n",
    "        return True\n",
    "    else:\n",
    "        return False\n",
    "code = 54355\n",
    "print(Pin(code))"
   ]
  },
  {
   "cell_type": "code",
   "execution_count": 40,
   "id": "e8125d96",
   "metadata": {},
   "outputs": [
    {
     "name": "stdout",
     "output_type": "stream",
     "text": [
      "[1, 4, '5 не квадрат', 16, 36, '54 не квадрат']\n"
     ]
    }
   ],
   "source": [
    "#####3\n",
    "import math\n",
    "def kvadr(chislo:list) -> list:\n",
    "    \"\"\"Изучает список чисел на квадратичную идеальность\n",
    "    first:список чисел\n",
    "    return:проверенный список\n",
    "    \"\"\"\n",
    "    s = []\n",
    "    for i in chislo:\n",
    "        b = int(math.sqrt(i))\n",
    "        if i == b*b:\n",
    "            s.append(i)\n",
    "        else: s.append(f\"{i} не квадрат\")\n",
    "    return s\n",
    "chislo = [1,4,5,16,36, 54]\n",
    "print(kvadr(chislo))\n",
    "    \n",
    "        "
   ]
  },
  {
   "cell_type": "code",
   "execution_count": 57,
   "id": "575d5856",
   "metadata": {},
   "outputs": [
    {
     "name": "stdout",
     "output_type": "stream",
     "text": [
      "['D', 'o', 'n', '', 'a', 'r', 'u', 'm', '', 'a']\n"
     ]
    }
   ],
   "source": [
    "###44444\n",
    "def unique_in_order(spis:str) -> list:\n",
    "    \"\"\"Функция проверяет последовательность на повторность символов\n",
    "    input:последовательность \n",
    "    return:список без потворных символов\n",
    "    \"\"\"\n",
    "    s = []\n",
    "\n",
    "    lst = list(spis)\n",
    "    for i in range(len(lst)):\n",
    "        if lst[i] == lst[i-1]:\n",
    "            \n",
    "            s.append('')\n",
    "        else:\n",
    "            s.append(lst[i])\n",
    "    return(s)\n",
    "spis = \"Donnarumma\"\n",
    "print(unique_in_order(spis))\n",
    "            "
   ]
  },
  {
   "cell_type": "code",
   "execution_count": 87,
   "id": "93aaa3f5",
   "metadata": {},
   "outputs": [
    {
     "ename": "SyntaxError",
     "evalue": "incomplete input (2149300241.py, line 3)",
     "output_type": "error",
     "traceback": [
      "\u001b[1;36m  Cell \u001b[1;32mIn[87], line 3\u001b[1;36m\u001b[0m\n\u001b[1;33m    \"\"\"Функция находит длину самого короткого слова\u001b[0m\n\u001b[1;37m    ^\u001b[0m\n\u001b[1;31mSyntaxError\u001b[0m\u001b[1;31m:\u001b[0m incomplete input\n"
     ]
    }
   ],
   "source": [
    "#555555\n",
    "def stroka(spis: str) -> int:\n",
    "    \"\"\"Функция находит длину самого короткого слова\n",
    "    input:Предложение\n",
    "    return:длина миниамльного словва\n",
    "    \"\"\"\n",
    "    spiss = spis.split()\n",
    "    mi = list(map(len,spiss))\n",
    "    \n",
    "    \n",
    "    return min(mi)\n",
    "spis = \"Мороз или солнце день чудесный, еще ты дремшлешь\"\n",
    "print(stroka(spis))   "
   ]
  },
  {
   "cell_type": "code",
   "execution_count": 104,
   "id": "a843413c",
   "metadata": {},
   "outputs": [
    {
     "name": "stdout",
     "output_type": "stream",
     "text": [
      "9\n"
     ]
    }
   ],
   "source": [
    "def koren(numb:str) -> int:\n",
    "    \"\"\"Находит цифровой корень числа\n",
    "    input:число\n",
    "    return:цифроввой коень числа\n",
    "    \"\"\"\n",
    "    while numb > 10:\n",
    "        numb = sum(map(int, str(numb)))\n",
    "        \n",
    "    return numb\n",
    "numb = 239648724\n",
    "print(koren(numb))\n"
   ]
  },
  {
   "cell_type": "code",
   "execution_count": 111,
   "id": "a25b59bc",
   "metadata": {},
   "outputs": [
    {
     "name": "stdout",
     "output_type": "stream",
     "text": [
      "('ж', 'е')\n"
     ]
    }
   ],
   "source": [
    "def sredny(slovo:str) -> str:\n",
    "    n = len(slovo)\n",
    "    if n % 2 == 0:\n",
    "            return slovo[int(n/2)],slovo[int(n/2+1)]\n",
    "    else:\n",
    "        return slovo[round(n/2)]\n",
    "slovo = \"Мороженоее\"\n",
    "print(sredny(slovo))"
   ]
  },
  {
   "cell_type": "code",
   "execution_count": 4,
   "id": "a4671c59",
   "metadata": {},
   "outputs": [
    {
     "name": "stdout",
     "output_type": "stream",
     "text": [
      "True\n"
     ]
    }
   ],
   "source": [
    "def prost(numb:int) -> bool:\n",
    "    if numb % 2 == 0:\n",
    "        return False\n",
    "    else:\n",
    "        for i in range(2,int(numb/2)):\n",
    "            if numb%i == 0:\n",
    "                return False\n",
    "            else:\n",
    "                return True\n",
    "numb = 23\n",
    "print(prost(numb))"
   ]
  },
  {
   "cell_type": "code",
   "execution_count": null,
   "id": "a42f63e7",
   "metadata": {},
   "outputs": [],
   "source": []
  }
 ],
 "metadata": {
  "kernelspec": {
   "display_name": "Python 3 (ipykernel)",
   "language": "python",
   "name": "python3"
  },
  "language_info": {
   "codemirror_mode": {
    "name": "ipython",
    "version": 3
   },
   "file_extension": ".py",
   "mimetype": "text/x-python",
   "name": "python",
   "nbconvert_exporter": "python",
   "pygments_lexer": "ipython3",
   "version": "3.11.5"
  }
 },
 "nbformat": 4,
 "nbformat_minor": 5
}
